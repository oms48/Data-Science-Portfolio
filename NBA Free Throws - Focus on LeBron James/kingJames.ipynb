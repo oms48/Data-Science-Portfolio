{
 "cells": [
  {
   "cell_type": "markdown",
   "metadata": {},
   "source": [
    "# NBA Free Throws - Focus on : LeBron James"
   ]
  },
  {
   "cell_type": "markdown",
   "metadata": {},
   "source": [
    "## Load and check data"
   ]
  },
  {
   "cell_type": "code",
   "execution_count": 1,
   "metadata": {},
   "outputs": [
    {
     "name": "stderr",
     "output_type": "stream",
     "text": [
      "Loading tidyverse: ggplot2\n",
      "Loading tidyverse: tibble\n",
      "Loading tidyverse: tidyr\n",
      "Loading tidyverse: readr\n",
      "Loading tidyverse: purrr\n",
      "Loading tidyverse: dplyr\n",
      "Conflicts with tidy packages ---------------------------------------------------\n",
      "filter(): dplyr, stats\n",
      "lag():    dplyr, stats\n",
      "Warning message:\n",
      "\"package 'ggthemes' was built under R version 3.4.3\""
     ]
    }
   ],
   "source": [
    "library(tidyverse)\n",
    "library(ggthemes)"
   ]
  },
  {
   "cell_type": "code",
   "execution_count": 2,
   "metadata": {},
   "outputs": [],
   "source": [
    "data <- read.csv('free_throws.csv', stringsAsFactors = FALSE)"
   ]
  },
  {
   "cell_type": "code",
   "execution_count": 3,
   "metadata": {},
   "outputs": [
    {
     "name": "stdout",
     "output_type": "stream",
     "text": [
      "'data.frame':\t618019 obs. of  11 variables:\n",
      " $ end_result: chr  \"106 - 114\" \"106 - 114\" \"106 - 114\" \"106 - 114\" ...\n",
      " $ game      : chr  \"PHX - LAL\" \"PHX - LAL\" \"PHX - LAL\" \"PHX - LAL\" ...\n",
      " $ game_id   : num  2.61e+08 2.61e+08 2.61e+08 2.61e+08 2.61e+08 ...\n",
      " $ period    : num  1 1 1 1 1 1 1 2 2 2 ...\n",
      " $ play      : chr  \"Andrew Bynum makes free throw 1 of 2\" \"Andrew Bynum makes free throw 2 of 2\" \"Andrew Bynum makes free throw 1 of 2\" \"Andrew Bynum misses free throw 2 of 2\" ...\n",
      " $ player    : chr  \"Andrew Bynum\" \"Andrew Bynum\" \"Andrew Bynum\" \"Andrew Bynum\" ...\n",
      " $ playoffs  : chr  \"regular\" \"regular\" \"regular\" \"regular\" ...\n",
      " $ score     : chr  \"0 - 1\" \"0 - 2\" \"18 - 12\" \"18 - 12\" ...\n",
      " $ season    : chr  \"2006 - 2007\" \"2006 - 2007\" \"2006 - 2007\" \"2006 - 2007\" ...\n",
      " $ shot_made : int  1 1 1 0 1 1 1 0 1 1 ...\n",
      " $ time      : chr  \"11:45\" \"11:45\" \"7:26\" \"7:26\" ...\n"
     ]
    }
   ],
   "source": [
    "str(data)"
   ]
  },
  {
   "cell_type": "code",
   "execution_count": 4,
   "metadata": {},
   "outputs": [],
   "source": [
    "kingJames <- filter(data, player == 'LeBron James')"
   ]
  },
  {
   "cell_type": "code",
   "execution_count": 5,
   "metadata": {},
   "outputs": [
    {
     "data": {
      "text/html": [
       "<table>\n",
       "<thead><tr><th scope=col>end_result</th><th scope=col>game</th><th scope=col>game_id</th><th scope=col>period</th><th scope=col>play</th><th scope=col>player</th><th scope=col>playoffs</th><th scope=col>score</th><th scope=col>season</th><th scope=col>shot_made</th><th scope=col>time</th></tr></thead>\n",
       "<tbody>\n",
       "\t<tr><td>94 - 97                              </td><td>WSH - CLE                            </td><td>261101005                            </td><td>2                                    </td><td>LeBron James misses free throw 1 of 2</td><td>LeBron James                         </td><td>regular                              </td><td>43 - 45                              </td><td>2006 - 2007                          </td><td>0                                    </td><td>1:31                                 </td></tr>\n",
       "\t<tr><td>94 - 97                              </td><td>WSH - CLE                            </td><td>261101005                            </td><td>2                                    </td><td>LeBron James misses free throw 2 of 2</td><td>LeBron James                         </td><td>regular                              </td><td>43 - 45                              </td><td>2006 - 2007                          </td><td>0                                    </td><td>1:31                                 </td></tr>\n",
       "\t<tr><td>94 - 97                              </td><td>WSH - CLE                            </td><td>261101005                            </td><td>3                                    </td><td>LeBron James misses free throw 1 of 2</td><td>LeBron James                         </td><td>regular                              </td><td>69 - 74                              </td><td>2006 - 2007                          </td><td>0                                    </td><td>0:03                                 </td></tr>\n",
       "\t<tr><td>94 - 97                              </td><td>WSH - CLE                            </td><td>261101005                            </td><td>3                                    </td><td>LeBron James makes free throw 2 of 2 </td><td>LeBron James                         </td><td>regular                              </td><td>69 - 75                              </td><td>2006 - 2007                          </td><td>1                                    </td><td>0:03                                 </td></tr>\n",
       "\t<tr><td>94 - 97                              </td><td>WSH - CLE                            </td><td>261101005                            </td><td>4                                    </td><td>LeBron James misses free throw 1 of 2</td><td>LeBron James                         </td><td>regular                              </td><td>69 - 78                              </td><td>2006 - 2007                          </td><td>0                                    </td><td>10:41                                </td></tr>\n",
       "\t<tr><td>94 - 97                              </td><td>WSH - CLE                            </td><td>261101005                            </td><td>4                                    </td><td>LeBron James makes free throw 2 of 2 </td><td>LeBron James                         </td><td>regular                              </td><td>69 - 79                              </td><td>2006 - 2007                          </td><td>1                                    </td><td>10:41                                </td></tr>\n",
       "</tbody>\n",
       "</table>\n"
      ],
      "text/latex": [
       "\\begin{tabular}{r|lllllllllll}\n",
       " end\\_result & game & game\\_id & period & play & player & playoffs & score & season & shot\\_made & time\\\\\n",
       "\\hline\n",
       "\t 94 - 97                               & WSH - CLE                             & 261101005                             & 2                                     & LeBron James misses free throw 1 of 2 & LeBron James                          & regular                               & 43 - 45                               & 2006 - 2007                           & 0                                     & 1:31                                 \\\\\n",
       "\t 94 - 97                               & WSH - CLE                             & 261101005                             & 2                                     & LeBron James misses free throw 2 of 2 & LeBron James                          & regular                               & 43 - 45                               & 2006 - 2007                           & 0                                     & 1:31                                 \\\\\n",
       "\t 94 - 97                               & WSH - CLE                             & 261101005                             & 3                                     & LeBron James misses free throw 1 of 2 & LeBron James                          & regular                               & 69 - 74                               & 2006 - 2007                           & 0                                     & 0:03                                 \\\\\n",
       "\t 94 - 97                               & WSH - CLE                             & 261101005                             & 3                                     & LeBron James makes free throw 2 of 2  & LeBron James                          & regular                               & 69 - 75                               & 2006 - 2007                           & 1                                     & 0:03                                 \\\\\n",
       "\t 94 - 97                               & WSH - CLE                             & 261101005                             & 4                                     & LeBron James misses free throw 1 of 2 & LeBron James                          & regular                               & 69 - 78                               & 2006 - 2007                           & 0                                     & 10:41                                \\\\\n",
       "\t 94 - 97                               & WSH - CLE                             & 261101005                             & 4                                     & LeBron James makes free throw 2 of 2  & LeBron James                          & regular                               & 69 - 79                               & 2006 - 2007                           & 1                                     & 10:41                                \\\\\n",
       "\\end{tabular}\n"
      ],
      "text/markdown": [
       "\n",
       "end_result | game | game_id | period | play | player | playoffs | score | season | shot_made | time | \n",
       "|---|---|---|---|---|---|\n",
       "| 94 - 97                               | WSH - CLE                             | 261101005                             | 2                                     | LeBron James misses free throw 1 of 2 | LeBron James                          | regular                               | 43 - 45                               | 2006 - 2007                           | 0                                     | 1:31                                  | \n",
       "| 94 - 97                               | WSH - CLE                             | 261101005                             | 2                                     | LeBron James misses free throw 2 of 2 | LeBron James                          | regular                               | 43 - 45                               | 2006 - 2007                           | 0                                     | 1:31                                  | \n",
       "| 94 - 97                               | WSH - CLE                             | 261101005                             | 3                                     | LeBron James misses free throw 1 of 2 | LeBron James                          | regular                               | 69 - 74                               | 2006 - 2007                           | 0                                     | 0:03                                  | \n",
       "| 94 - 97                               | WSH - CLE                             | 261101005                             | 3                                     | LeBron James makes free throw 2 of 2  | LeBron James                          | regular                               | 69 - 75                               | 2006 - 2007                           | 1                                     | 0:03                                  | \n",
       "| 94 - 97                               | WSH - CLE                             | 261101005                             | 4                                     | LeBron James misses free throw 1 of 2 | LeBron James                          | regular                               | 69 - 78                               | 2006 - 2007                           | 0                                     | 10:41                                 | \n",
       "| 94 - 97                               | WSH - CLE                             | 261101005                             | 4                                     | LeBron James makes free throw 2 of 2  | LeBron James                          | regular                               | 69 - 79                               | 2006 - 2007                           | 1                                     | 10:41                                 | \n",
       "\n",
       "\n"
      ],
      "text/plain": [
       "  end_result game      game_id   period play                                 \n",
       "1 94 - 97    WSH - CLE 261101005 2      LeBron James misses free throw 1 of 2\n",
       "2 94 - 97    WSH - CLE 261101005 2      LeBron James misses free throw 2 of 2\n",
       "3 94 - 97    WSH - CLE 261101005 3      LeBron James misses free throw 1 of 2\n",
       "4 94 - 97    WSH - CLE 261101005 3      LeBron James makes free throw 2 of 2 \n",
       "5 94 - 97    WSH - CLE 261101005 4      LeBron James misses free throw 1 of 2\n",
       "6 94 - 97    WSH - CLE 261101005 4      LeBron James makes free throw 2 of 2 \n",
       "  player       playoffs score   season      shot_made time \n",
       "1 LeBron James regular  43 - 45 2006 - 2007 0         1:31 \n",
       "2 LeBron James regular  43 - 45 2006 - 2007 0         1:31 \n",
       "3 LeBron James regular  69 - 74 2006 - 2007 0         0:03 \n",
       "4 LeBron James regular  69 - 75 2006 - 2007 1         0:03 \n",
       "5 LeBron James regular  69 - 78 2006 - 2007 0         10:41\n",
       "6 LeBron James regular  69 - 79 2006 - 2007 1         10:41"
      ]
     },
     "metadata": {},
     "output_type": "display_data"
    }
   ],
   "source": [
    "head(kingJames)"
   ]
  },
  {
   "cell_type": "markdown",
   "metadata": {},
   "source": [
    "    We have 11 variables and actually all of them self-descriptive. game_id column shows id that are unique to each match but I don't know there is a special meaning of these values. Player column is not benefical for us anymore so we can drop it. "
   ]
  },
  {
   "cell_type": "code",
   "execution_count": 6,
   "metadata": {},
   "outputs": [],
   "source": [
    "# It is obvious that some of our features are categorical. For now, let's make four of them categorical. \n",
    "\n",
    "kingJames$shot_made = factor(kingJames$shot_made)\n",
    "kingJames$period = factor(kingJames$period)\n",
    "kingJames$playoffs = factor(kingJames$playoffs)\n",
    "kingJames$season = factor(kingJames$season)"
   ]
  },
  {
   "cell_type": "code",
   "execution_count": 7,
   "metadata": {},
   "outputs": [
    {
     "data": {
      "text/plain": [
       "  end_result            game              game_id          period  \n",
       " Length:8001        Length:8001        Min.   :261101005   1:1732  \n",
       " Class :character   Class :character   1st Qu.:281206030   2:2006  \n",
       " Mode  :character   Mode  :character   Median :310104014   3:1881  \n",
       "                                       Mean   :329192203   4:2263  \n",
       "                                       3rd Qu.:400488962   5: 100  \n",
       "                                       Max.   :400878160   6:  19  \n",
       "                                                                   \n",
       "     play              player              playoffs       score          \n",
       " Length:8001        Length:8001        playoffs:1683   Length:8001       \n",
       " Class :character   Class :character   regular :6318   Class :character  \n",
       " Mode  :character   Mode  :character                   Mode  :character  \n",
       "                                                                         \n",
       "                                                                         \n",
       "                                                                         \n",
       "                                                                         \n",
       "         season     shot_made     time          \n",
       " 2008 - 2009: 963   0:2044    Length:8001       \n",
       " 2007 - 2008: 925   1:5957    Class :character  \n",
       " 2006 - 2007: 899             Mode  :character  \n",
       " 2009 - 2010: 893                               \n",
       " 2010 - 2011: 829                               \n",
       " 2013 - 2014: 745                               \n",
       " (Other)    :2747                               "
      ]
     },
     "metadata": {},
     "output_type": "display_data"
    }
   ],
   "source": [
    "summary(kingJames)"
   ]
  },
  {
   "cell_type": "code",
   "execution_count": 8,
   "metadata": {},
   "outputs": [
    {
     "data": {
      "text/html": [
       "<dl class=dl-horizontal>\n",
       "\t<dt>end_result</dt>\n",
       "\t\t<dd>0</dd>\n",
       "\t<dt>game</dt>\n",
       "\t\t<dd>0</dd>\n",
       "\t<dt>game_id</dt>\n",
       "\t\t<dd>0</dd>\n",
       "\t<dt>period</dt>\n",
       "\t\t<dd>0</dd>\n",
       "\t<dt>play</dt>\n",
       "\t\t<dd>0</dd>\n",
       "\t<dt>player</dt>\n",
       "\t\t<dd>0</dd>\n",
       "\t<dt>playoffs</dt>\n",
       "\t\t<dd>0</dd>\n",
       "\t<dt>score</dt>\n",
       "\t\t<dd>0</dd>\n",
       "\t<dt>season</dt>\n",
       "\t\t<dd>0</dd>\n",
       "\t<dt>shot_made</dt>\n",
       "\t\t<dd>0</dd>\n",
       "\t<dt>time</dt>\n",
       "\t\t<dd>0</dd>\n",
       "</dl>\n"
      ],
      "text/latex": [
       "\\begin{description*}\n",
       "\\item[end\\textbackslash{}\\_result] 0\n",
       "\\item[game] 0\n",
       "\\item[game\\textbackslash{}\\_id] 0\n",
       "\\item[period] 0\n",
       "\\item[play] 0\n",
       "\\item[player] 0\n",
       "\\item[playoffs] 0\n",
       "\\item[score] 0\n",
       "\\item[season] 0\n",
       "\\item[shot\\textbackslash{}\\_made] 0\n",
       "\\item[time] 0\n",
       "\\end{description*}\n"
      ],
      "text/markdown": [
       "end_result\n",
       ":   0game\n",
       ":   0game_id\n",
       ":   0period\n",
       ":   0play\n",
       ":   0player\n",
       ":   0playoffs\n",
       ":   0score\n",
       ":   0season\n",
       ":   0shot_made\n",
       ":   0time\n",
       ":   0\n",
       "\n"
      ],
      "text/plain": [
       "end_result       game    game_id     period       play     player   playoffs \n",
       "         0          0          0          0          0          0          0 \n",
       "     score     season  shot_made       time \n",
       "         0          0          0          0 "
      ]
     },
     "metadata": {},
     "output_type": "display_data"
    }
   ],
   "source": [
    "# let's look our dataframe for missing values.\n",
    "\n",
    "sapply(kingJames, function(x) sum(is.na(x)))"
   ]
  },
  {
   "cell_type": "markdown",
   "metadata": {},
   "source": [
    "## Generating New Features\n",
    "\n",
    "    Feature engineering can be seen as transforming raw data into new features in order to better represent and understand underlying problem. In order to explore FT % of LeBron James across different variables, I will generate new features with the help of the current dataset and some basic outside knowledge(like team, coach or conference)."
   ]
  },
  {
   "cell_type": "markdown",
   "metadata": {},
   "source": [
    "### Cleveland or Miami ?"
   ]
  },
  {
   "cell_type": "code",
   "execution_count": 9,
   "metadata": {},
   "outputs": [],
   "source": [
    "findTeam <- function(season){\n",
    "  miami <- c('2010 - 2011', '2011 - 2012', '2012 - 2013', '2013 - 2014')\n",
    "  if (season %in% miami){\n",
    "    team <- 'MIA'\n",
    "  }else{\n",
    "    team <- 'CLE'\n",
    "  }\n",
    "  return(team)\n",
    "}\n",
    "\n",
    "findTeam2 <- function(season){\n",
    "  team <- findTeam(season)\n",
    "  cle2 <- c('2014 - 2015', '2015 - 2016')\n",
    "  if (team == 'CLE' & season %in% cle2){\n",
    "    team = 'CLE - 2'\n",
    "  }else if (team == 'CLE'){\n",
    "    team = 'CLE - 1'\n",
    "  }\n",
    "  return (team)\n",
    "}\n",
    "\n",
    "kingJames$team = mapply(findTeam, kingJames$season)\n",
    "kingJames$team = factor(kingJames$team)\n",
    "\n",
    "kingJames$team2 = mapply(findTeam2, kingJames$season)\n",
    "kingJames$team2 = factor(kingJames$team2)"
   ]
  },
  {
   "cell_type": "markdown",
   "metadata": {},
   "source": [
    "### Home or Away ?"
   ]
  },
  {
   "cell_type": "code",
   "execution_count": 10,
   "metadata": {},
   "outputs": [],
   "source": [
    "homeOrAway <- function(game,season){\n",
    "  teamOfKing = findTeam(season)\n",
    "  if (teamOfKing == sub(' - \\\\w*', '', game)){\n",
    "    hoa = 'Home'\n",
    "  }else {\n",
    "    hoa = 'Away'\n",
    "  }\n",
    "  return(hoa)\n",
    "}\n",
    "\n",
    "kingJames$home_or_away = mapply(homeOrAway, kingJames$game, kingJames$season)\n",
    "kingJames$home_or_away = factor(kingJames$home_or_away)"
   ]
  },
  {
   "cell_type": "markdown",
   "metadata": {},
   "source": [
    "### Win or Lose ?"
   ]
  },
  {
   "cell_type": "code",
   "execution_count": 11,
   "metadata": {},
   "outputs": [],
   "source": [
    "winOrLose <- function(end_result,game,season){\n",
    "  hoa = homeOrAway(game,season)\n",
    "  hteam = as.numeric(sub(' - \\\\d*', '', end_result))\n",
    "  ateam = as.numeric(sub('\\\\d* - ', '', end_result))\n",
    "  c1 = hteam > ateam\n",
    "  c2 = hoa == 'Home'\n",
    "  if (c1 & c2){\n",
    "    wol = 'Win'\n",
    "  } else if (c1 & !c2){\n",
    "    wol = 'Lose'\n",
    "  } else if (!c1 & c2){\n",
    "    wol = 'Lose'\n",
    "  } else {\n",
    "    wol = 'Win'\n",
    "  }\n",
    "  return(wol)\n",
    "}\n",
    "\n",
    "kingJames$win_or_lose = mapply(winOrLose, kingJames$end_result, kingJames$game\n",
    "                               ,kingJames$season)\n",
    "kingJames$win_or_lose = factor(kingJames$win_or_lose)"
   ]
  },
  {
   "cell_type": "code",
   "execution_count": 12,
   "metadata": {},
   "outputs": [],
   "source": [
    "takeDifferenceEnd <- function(end_result,game,season){\n",
    "  wol = winOrLose(end_result, game, season)\n",
    "  hteam = as.numeric(sub(' - \\\\d*', '', end_result))\n",
    "  ateam = as.numeric(sub('\\\\d* - ', '', end_result))\n",
    "  if (wol == 'Win'){\n",
    "    diff = abs(hteam - ateam)\n",
    "  } else {\n",
    "    diff = -abs(hteam - ateam)\n",
    "  }\n",
    "  return(diff)\n",
    "}\n",
    "\n",
    "kingJames$endDifference = mapply(takeDifferenceEnd, kingJames$end_result, kingJames$game\n",
    "                              , kingJames$season)"
   ]
  },
  {
   "cell_type": "markdown",
   "metadata": {},
   "source": [
    "### Leading or not ? "
   ]
  },
  {
   "cell_type": "code",
   "execution_count": 13,
   "metadata": {},
   "outputs": [],
   "source": [
    "leadingOrNot <- function(score,game,season){\n",
    "  hoa = homeOrAway(game,season)\n",
    "  hteam = as.numeric(sub(' - \\\\d*', '', score))\n",
    "  ateam = as.numeric(sub('\\\\d* - ', '', score))\n",
    "  c1 = hteam >= ateam\n",
    "  c2 = hoa == 'Home'\n",
    "  if (c1 & c2){\n",
    "    lor = 'Lead'\n",
    "  } else if (c1 & !c2){\n",
    "    lor = 'Not Lead'\n",
    "  } else if (!c1 & c2){\n",
    "    lor = 'Not Lead'\n",
    "  } else {\n",
    "    lor = 'Lead'\n",
    "  }\n",
    "  return(lor)\n",
    "}\n",
    "\n",
    "kingJames$leading = mapply(leadingOrNot, kingJames$score, kingJames$game\n",
    "                           ,kingJames$season)\n",
    "kingJames$leading = factor(kingJames$leading)"
   ]
  },
  {
   "cell_type": "code",
   "execution_count": 14,
   "metadata": {},
   "outputs": [],
   "source": [
    "takeDifference <- function(score,game,season){\n",
    "  lor = leadingOrNot(score, game, season)\n",
    "  hteam = as.numeric(sub(' - \\\\d*', '', score))\n",
    "  ateam = as.numeric(sub('\\\\d* - ', '', score))\n",
    "  if (lor == 'Lead'){\n",
    "    diff = abs(hteam - ateam)\n",
    "  } else {\n",
    "    diff = -abs(hteam - ateam)\n",
    "  }\n",
    "  return(diff)\n",
    "}\n",
    "\n",
    "kingJames$difference = mapply(takeDifference, kingJames$score, kingJames$game\n",
    "                              , kingJames$season)"
   ]
  },
  {
   "cell_type": "markdown",
   "metadata": {},
   "source": [
    "### Who is the coach ? "
   ]
  },
  {
   "cell_type": "code",
   "execution_count": 15,
   "metadata": {},
   "outputs": [],
   "source": [
    "findCoach = function(season){\n",
    "  brown <- c('2006 - 2007', '2007 - 2008', '2008 - 2009', '2009 - 2010')\n",
    "  erik <- c('2010 - 2011', '2011 - 2012', '2012 - 2013', '2013 - 2014')\n",
    "  blatt <- c('2014 - 2015', '2015 - 2016')\n",
    "  if (season %in% brown){\n",
    "    coach <- 'Mike Brown'\n",
    "  } else if (season %in% erik){\n",
    "    coach <- 'Erik Spoelstra'\n",
    "  } else if(season %in% blatt) {\n",
    "    coach = 'David Blatt'\n",
    "  }\n",
    "  return (coach)\n",
    "}\n",
    "\n",
    "kingJames$coach <- mapply(findCoach, kingJames$season)\n",
    "kingJames$coach = factor(kingJames$coach)"
   ]
  },
  {
   "cell_type": "markdown",
   "metadata": {},
   "source": [
    "### Who is the opponent ? "
   ]
  },
  {
   "cell_type": "code",
   "execution_count": 16,
   "metadata": {},
   "outputs": [],
   "source": [
    "findOpponent = function(season, game){\n",
    "  hoa = homeOrAway(game, season)\n",
    "  if (hoa == 'Home'){\n",
    "    opp = sub('\\\\w* - ', '', game)\n",
    "  }else {\n",
    "    opp = sub(' - \\\\w*', '', game)\n",
    "  }\n",
    "  return (opp)\n",
    "}\n",
    "\n",
    "kingJames$opponent <- mapply(findOpponent, kingJames$season, kingJames$game)\n"
   ]
  },
  {
   "cell_type": "code",
   "execution_count": 17,
   "metadata": {},
   "outputs": [],
   "source": [
    "kingJames$opponent[kingJames$opponent == 'SEA'] <- 'OKC'\n",
    "\n",
    "kingJames$opponent[kingJames$opponent == 'NJ'] <- 'BKN'\n",
    "\n",
    "kingJames$opponent = factor(kingJames$opponent)"
   ]
  },
  {
   "cell_type": "markdown",
   "metadata": {},
   "source": [
    "### East or West ?"
   ]
  },
  {
   "cell_type": "code",
   "execution_count": 18,
   "metadata": {},
   "outputs": [],
   "source": [
    "findConference = function(opponent){\n",
    "  east <- c('BOS', 'TOR', 'NY', 'PHI', 'BKN', 'DET', 'MIL', 'CLE', 'IND', 'CHI',\n",
    "           'WSH', 'ORL', 'MIA', 'CHA', 'ATL')\n",
    "  if (opponent == 'EAST'){\n",
    "    con <- 'NONE'\n",
    "  }else if (opponent %in% east){\n",
    "    con <- 'EAST'\n",
    "  }else {\n",
    "    con <- 'WEST'\n",
    "  }\n",
    "  return (con)\n",
    "}\n",
    "\n",
    "kingJames$conference = mapply(findConference, kingJames$opponent)\n",
    "kingJames$conference = factor(kingJames$conference)"
   ]
  },
  {
   "cell_type": "markdown",
   "metadata": {},
   "source": [
    "### Divisions .."
   ]
  },
  {
   "cell_type": "code",
   "execution_count": 19,
   "metadata": {},
   "outputs": [],
   "source": [
    "findDivision = function(opponent){\n",
    "  teams = list(c('BOS','TOR','NY','PHI','BKN'), c('DET','MIL','CLE','IND','CHI'),\n",
    "               c('WSH','ORL','MIA','CHA','ATL'),c('MIN','DEN','POR','OKC','UTAH'),\n",
    "               c('GS','LAL','LAC','PHX','SAC'),c('HOU','SA','NO','MEM','DAL'))\n",
    "  divisions = c('Atlantic', 'Central', 'Southeast', 'Northwest', 'Pasific',\n",
    "                'Southwest')\n",
    "  div = 'None'\n",
    "  for (i in 1:6){\n",
    "    if (opponent %in% teams[[i]]){\n",
    "      div = divisions[i]\n",
    "    }\n",
    "  }\n",
    "  return (div)\n",
    "}\n",
    "\n",
    "kingJames$division  = mapply(findDivision, kingJames$opponent)\n",
    "kingJames$division = factor(kingJames$division)"
   ]
  },
  {
   "cell_type": "markdown",
   "metadata": {},
   "source": [
    "### Free throw splits - 1 of 2, 2 of 2 etc."
   ]
  },
  {
   "cell_type": "code",
   "execution_count": 20,
   "metadata": {},
   "outputs": [],
   "source": [
    "kingJames <-mutate(kingJames, n_free_throw = \n",
    "                substring(play, regexpr(\"(.[123].*)|(.technical.*)\", play) + 1))\n"
   ]
  },
  {
   "cell_type": "code",
   "execution_count": 21,
   "metadata": {},
   "outputs": [
    {
     "data": {
      "text/html": [
       "<dl class=dl-horizontal>\n",
       "\t<dt>1 of 1</dt>\n",
       "\t\t<dd>943</dd>\n",
       "\t<dt>1 of 2</dt>\n",
       "\t\t<dd>3355</dd>\n",
       "\t<dt>1 of 3</dt>\n",
       "\t\t<dd>34</dd>\n",
       "\t<dt>2 of 2</dt>\n",
       "\t\t<dd>3366</dd>\n",
       "\t<dt>2 of 3</dt>\n",
       "\t\t<dd>34</dd>\n",
       "\t<dt>3 of 3</dt>\n",
       "\t\t<dd>34</dd>\n",
       "\t<dt>LeBron James makes free throw</dt>\n",
       "\t\t<dd>34</dd>\n",
       "\t<dt>LeBron James misses free throw</dt>\n",
       "\t\t<dd>14</dd>\n",
       "\t<dt>technical free throw</dt>\n",
       "\t\t<dd>187</dd>\n",
       "</dl>\n"
      ],
      "text/latex": [
       "\\begin{description*}\n",
       "\\item[1 of 1] 943\n",
       "\\item[1 of 2] 3355\n",
       "\\item[1 of 3] 34\n",
       "\\item[2 of 2] 3366\n",
       "\\item[2 of 3] 34\n",
       "\\item[3 of 3] 34\n",
       "\\item[LeBron James makes free throw] 34\n",
       "\\item[LeBron James misses free throw] 14\n",
       "\\item[technical free throw] 187\n",
       "\\end{description*}\n"
      ],
      "text/markdown": [
       "1 of 1\n",
       ":   9431 of 2\n",
       ":   33551 of 3\n",
       ":   342 of 2\n",
       ":   33662 of 3\n",
       ":   343 of 3\n",
       ":   34LeBron James makes free throw\n",
       ":   34LeBron James misses free throw\n",
       ":   14technical free throw\n",
       ":   187\n",
       "\n"
      ],
      "text/plain": [
       "                        1 of 1                         1 of 2 \n",
       "                           943                           3355 \n",
       "                        1 of 3                         2 of 2 \n",
       "                            34                           3366 \n",
       "                        2 of 3                         3 of 3 \n",
       "                            34                             34 \n",
       " LeBron James makes free throw LeBron James misses free throw \n",
       "                            34                             14 \n",
       "          technical free throw \n",
       "                           187 "
      ]
     },
     "metadata": {},
     "output_type": "display_data"
    }
   ],
   "source": [
    "# Let's look what we get after this operation \n",
    "\n",
    "summary(factor(kingJames$n_free_throw))"
   ]
  },
  {
   "cell_type": "markdown",
   "metadata": {},
   "source": [
    "    We expect that 1 of 2 and 2 of 2 must be equal but it is not. Also we have 'Lebron James makes..' and 'Lebron James misse..' categories that must belong to other categories. I solved this problem manually by looking this problematic categories(categories begin with Lebron) one by one. I don't know are there any other ways to fix this problem but with the help of score and time variables , it is possible to solve this problem manually."
   ]
  },
  {
   "cell_type": "code",
   "execution_count": 22,
   "metadata": {},
   "outputs": [],
   "source": [
    "one_of_one = c(4428,5141)\n",
    "one_of_two = c(131,260,289,347,887,907,1324,1681,1693,1741,1758,1990,2351,2435,\n",
    "               2506,2767,2835,2917,3298,3448,3637,3831,3911,4530,4602,\n",
    "               4708,4868)\n",
    "two_of_two = c(132,290,346,886,906,1325,1638,1682,1694,1742,1759,1991,2352,\n",
    "               2436,2768,2836,2918,3299,3447,3638,3830,3910,4529,4603,4709,\n",
    "               4869)\n",
    "\n",
    "tot_ft = c(one_of_one, one_of_two, two_of_two)"
   ]
  },
  {
   "cell_type": "code",
   "execution_count": 23,
   "metadata": {},
   "outputs": [],
   "source": [
    "for (i in tot_ft){\n",
    "  if (i %in% one_of_one){\n",
    "    kingJames$n_free_throw[i] = '1 of 1'\n",
    "  }else if(i %in% one_of_two){\n",
    "    kingJames$n_free_throw[i] = '1 of 2'\n",
    "  }else {\n",
    "    kingJames$n_free_throw[i] = '2 of 2'\n",
    "  }\n",
    "}\n",
    "\n",
    "kingJames$n_free_throw = factor(kingJames$n_free_throw)"
   ]
  },
  {
   "cell_type": "code",
   "execution_count": 24,
   "metadata": {},
   "outputs": [
    {
     "data": {
      "text/html": [
       "<dl class=dl-horizontal>\n",
       "\t<dt>1 of 1</dt>\n",
       "\t\t<dd>945</dd>\n",
       "\t<dt>1 of 2</dt>\n",
       "\t\t<dd>3382</dd>\n",
       "\t<dt>1 of 3</dt>\n",
       "\t\t<dd>34</dd>\n",
       "\t<dt>2 of 2</dt>\n",
       "\t\t<dd>3385</dd>\n",
       "\t<dt>2 of 3</dt>\n",
       "\t\t<dd>34</dd>\n",
       "\t<dt>3 of 3</dt>\n",
       "\t\t<dd>34</dd>\n",
       "\t<dt>technical free throw</dt>\n",
       "\t\t<dd>187</dd>\n",
       "</dl>\n"
      ],
      "text/latex": [
       "\\begin{description*}\n",
       "\\item[1 of 1] 945\n",
       "\\item[1 of 2] 3382\n",
       "\\item[1 of 3] 34\n",
       "\\item[2 of 2] 3385\n",
       "\\item[2 of 3] 34\n",
       "\\item[3 of 3] 34\n",
       "\\item[technical free throw] 187\n",
       "\\end{description*}\n"
      ],
      "text/markdown": [
       "1 of 1\n",
       ":   9451 of 2\n",
       ":   33821 of 3\n",
       ":   342 of 2\n",
       ":   33852 of 3\n",
       ":   343 of 3\n",
       ":   34technical free throw\n",
       ":   187\n",
       "\n"
      ],
      "text/plain": [
       "              1 of 1               1 of 2               1 of 3 \n",
       "                 945                 3382                   34 \n",
       "              2 of 2               2 of 3               3 of 3 \n",
       "                3385                   34                   34 \n",
       "technical free throw \n",
       "                 187 "
      ]
     },
     "metadata": {},
     "output_type": "display_data"
    }
   ],
   "source": [
    "# Although still our 1 of 2 and 2 of 2 categories are not equal, difference is small so we can ignore it.\n",
    "\n",
    "summary(kingJames$n_free_throw)"
   ]
  },
  {
   "cell_type": "markdown",
   "metadata": {},
   "source": [
    "### Dealing with Time"
   ]
  },
  {
   "cell_type": "code",
   "execution_count": 25,
   "metadata": {},
   "outputs": [],
   "source": [
    "findPeriodMinutesLeft = function(time){\n",
    "  minLeft = as.numeric(sub(':\\\\d*', '', time))\n",
    "  return(minLeft)\n",
    "}\n",
    "\n",
    "kingJames$minute_left = mapply(findPeriodMinutesLeft, kingJames$time)"
   ]
  },
  {
   "cell_type": "code",
   "execution_count": 26,
   "metadata": {},
   "outputs": [],
   "source": [
    "findTotalMinutesLeft = function(time, period){\n",
    "  pMinLeft = findPeriodMinutesLeft(time)\n",
    "  if (as.numeric(period) > 4){\n",
    "    totMinLeft = pMinLeft\n",
    "  }else{\n",
    "    totMinLeft = pMinLeft + (4 - as.numeric(period)) * 12\n",
    "  }\n",
    "  return (totMinLeft)\n",
    "}\n",
    "\n",
    "kingJames$tot_min_left = mapply(findTotalMinutesLeft, kingJames$time, \n",
    "                                kingJames$period)"
   ]
  },
  {
   "cell_type": "code",
   "execution_count": 27,
   "metadata": {},
   "outputs": [],
   "source": [
    "findPeriodSecondsLeft = function(time){\n",
    "  minutes = as.numeric(sub(':\\\\d*', '', time))\n",
    "  seconds = as.numeric(sub('\\\\d*:', '', time))\n",
    "  secondsLeft = minutes * 60 + seconds\n",
    "  return (secondsLeft)\n",
    "}\n",
    "\n",
    "kingJames$seconds_left  = mapply(findPeriodSecondsLeft, kingJames$time)"
   ]
  },
  {
   "cell_type": "code",
   "execution_count": 28,
   "metadata": {},
   "outputs": [],
   "source": [
    "findTotalSecondsLeft = function(time, period){\n",
    "  pSecLeft = findPeriodSecondsLeft(time)\n",
    "  if (as.numeric(period) > 4){\n",
    "    totSecLeft = pSecLeft\n",
    "  }else {\n",
    "    totSecLeft = pSecLeft + (4 - as.numeric(period)) * 12 * 60\n",
    "  }\n",
    "  return (totSecLeft)\n",
    "}\n",
    "\n",
    "kingJames$tot_sec_left = mapply(findTotalSecondsLeft, kingJames$time,\n",
    "                                kingJames$period)"
   ]
  },
  {
   "cell_type": "code",
   "execution_count": 29,
   "metadata": {},
   "outputs": [],
   "source": [
    "# total minute left will not be very natural when we make plots so lets generate minute feature\n",
    "kingJames = mutate(kingJames, minute = 48 - tot_min_left)"
   ]
  },
  {
   "cell_type": "code",
   "execution_count": 30,
   "metadata": {},
   "outputs": [
    {
     "data": {
      "text/plain": [
       "  end_result            game              game_id          period  \n",
       " Length:8001        Length:8001        Min.   :261101005   1:1732  \n",
       " Class :character   Class :character   1st Qu.:281206030   2:2006  \n",
       " Mode  :character   Mode  :character   Median :310104014   3:1881  \n",
       "                                       Mean   :329192203   4:2263  \n",
       "                                       3rd Qu.:400488962   5: 100  \n",
       "                                       Max.   :400878160   6:  19  \n",
       "                                                                   \n",
       "     play              player              playoffs       score          \n",
       " Length:8001        Length:8001        playoffs:1683   Length:8001       \n",
       " Class :character   Class :character   regular :6318   Class :character  \n",
       " Mode  :character   Mode  :character                   Mode  :character  \n",
       "                                                                         \n",
       "                                                                         \n",
       "                                                                         \n",
       "                                                                         \n",
       "         season     shot_made     time            team          team2     \n",
       " 2008 - 2009: 963   0:2044    Length:8001        CLE:4983   CLE - 1:3680  \n",
       " 2007 - 2008: 925   1:5957    Class :character   MIA:3018   CLE - 2:1303  \n",
       " 2006 - 2007: 899             Mode  :character              MIA    :3018  \n",
       " 2009 - 2010: 893                                                         \n",
       " 2010 - 2011: 829                                                         \n",
       " 2013 - 2014: 745                                                         \n",
       " (Other)    :2747                                                         \n",
       " home_or_away win_or_lose endDifference         leading       difference     \n",
       " Away:4053    Lose:2301   Min.   :-36.000   Lead    :5059   Min.   :-38.000  \n",
       " Home:3948    Win :5700   1st Qu.: -2.000   Not Lead:2942   1st Qu.: -3.000  \n",
       "                          Median :  6.000                   Median :  3.000  \n",
       "                          Mean   :  5.542                   Mean   :  3.048  \n",
       "                          3rd Qu.: 12.000                   3rd Qu.:  9.000  \n",
       "                          Max.   : 39.000                   Max.   : 40.000  \n",
       "                                                                             \n",
       "            coach         opponent    conference       division   \n",
       " David Blatt   :1303   BOS    : 644   EAST:5577   Atlantic :2053  \n",
       " Erik Spoelstra:3018   CHI    : 499   NONE:  19   Central  :1839  \n",
       " Mike Brown    :3680   IND    : 488   WEST:2405   None     :  19  \n",
       "                       BKN    : 416               Northwest: 762  \n",
       "                       ORL    : 408               Pasific  : 857  \n",
       "                       ATL    : 385               Southeast:1685  \n",
       "                       (Other):5161               Southwest: 786  \n",
       "               n_free_throw   minute_left      tot_min_left    seconds_left  \n",
       " 1 of 1              : 945   Min.   : 0.000   Min.   : 0.00   Min.   :  0.0  \n",
       " 1 of 2              :3382   1st Qu.: 1.000   1st Qu.: 8.00   1st Qu.: 84.0  \n",
       " 1 of 3              :  34   Median : 3.000   Median :21.00   Median :222.0  \n",
       " 2 of 2              :3385   Mean   : 3.835   Mean   :20.47   Mean   :257.9  \n",
       " 2 of 3              :  34   3rd Qu.: 6.000   3rd Qu.:31.00   3rd Qu.:397.0  \n",
       " 3 of 3              :  34   Max.   :12.000   Max.   :47.00   Max.   :720.0  \n",
       " technical free throw: 187                                                   \n",
       "  tot_sec_left      minute     \n",
       " Min.   :   0   Min.   : 1.00  \n",
       " 1st Qu.: 480   1st Qu.:17.00  \n",
       " Median :1267   Median :27.00  \n",
       " Mean   :1256   Mean   :27.53  \n",
       " 3rd Qu.:1888   3rd Qu.:40.00  \n",
       " Max.   :2872   Max.   :48.00  \n",
       "                               "
      ]
     },
     "metadata": {},
     "output_type": "display_data"
    }
   ],
   "source": [
    "# Let's finally look our variables\n",
    "\n",
    "summary(kingJames)"
   ]
  },
  {
   "cell_type": "code",
   "execution_count": 31,
   "metadata": {},
   "outputs": [],
   "source": [
    "# Some rows taking from all-star games and I think these are not very helpful for us. Let's remove them.\n",
    "exclude <- filter(kingJames, conference == 'NONE')"
   ]
  },
  {
   "cell_type": "code",
   "execution_count": 32,
   "metadata": {},
   "outputs": [
    {
     "name": "stderr",
     "output_type": "stream",
     "text": [
      "Joining, by = c(\"end_result\", \"game\", \"game_id\", \"period\", \"play\", \"player\", \"playoffs\", \"score\", \"season\", \"shot_made\", \"time\", \"team\", \"team2\", \"home_or_away\", \"win_or_lose\", \"endDifference\", \"leading\", \"difference\", \"coach\", \"opponent\", \"conference\", \"division\", \"n_free_throw\", \"minute_left\", \"tot_min_left\", \"seconds_left\", \"tot_sec_left\", \"minute\")\n"
     ]
    }
   ],
   "source": [
    "kingJames <- anti_join(kingJames, exclude)"
   ]
  },
  {
   "cell_type": "code",
   "execution_count": 33,
   "metadata": {},
   "outputs": [
    {
     "data": {
      "text/plain": [
       "  end_result            game              game_id          period  \n",
       " Length:7982        Length:7982        Min.   :261101005   1:1726  \n",
       " Class :character   Class :character   1st Qu.:281206030   2:2005  \n",
       " Mode  :character   Mode  :character   Median :310104014   3:1876  \n",
       "                                       Mean   :329261173   4:2256  \n",
       "                                       3rd Qu.:400488980   5: 100  \n",
       "                                       Max.   :400878160   6:  19  \n",
       "                                                                   \n",
       "     play              player              playoffs       score          \n",
       " Length:7982        Length:7982        playoffs:1683   Length:7982       \n",
       " Class :character   Class :character   regular :6299   Class :character  \n",
       " Mode  :character   Mode  :character                   Mode  :character  \n",
       "                                                                         \n",
       "                                                                         \n",
       "                                                                         \n",
       "                                                                         \n",
       "         season     shot_made     time            team          team2     \n",
       " 2008 - 2009: 961   0:2043    Length:7982        CLE:4974   CLE - 1:3671  \n",
       " 2007 - 2008: 924   1:5939    Class :character   MIA:3008   CLE - 2:1303  \n",
       " 2006 - 2007: 897             Mode  :character              MIA    :3008  \n",
       " 2009 - 2010: 889                                                         \n",
       " 2010 - 2011: 819                                                         \n",
       " 2013 - 2014: 745                                                         \n",
       " (Other)    :2747                                                         \n",
       " home_or_away win_or_lose endDifference         leading       difference     \n",
       " Away:4034    Lose:2296   Min.   :-36.000   Lead    :5045   Min.   :-38.000  \n",
       " Home:3948    Win :5686   1st Qu.: -2.000   Not Lead:2937   1st Qu.: -3.000  \n",
       "                          Median :  6.000                   Median :  3.000  \n",
       "                          Mean   :  5.538                   Mean   :  3.046  \n",
       "                          3rd Qu.: 12.000                   3rd Qu.:  9.000  \n",
       "                          Max.   : 39.000                   Max.   : 40.000  \n",
       "                                                                             \n",
       "            coach         opponent    conference       division   \n",
       " David Blatt   :1303   BOS    : 644   EAST:5577   Atlantic :2053  \n",
       " Erik Spoelstra:3008   CHI    : 499   NONE:   0   Central  :1839  \n",
       " Mike Brown    :3671   IND    : 488   WEST:2405   None     :   0  \n",
       "                       BKN    : 416               Northwest: 762  \n",
       "                       ORL    : 408               Pasific  : 857  \n",
       "                       ATL    : 385               Southeast:1685  \n",
       "                       (Other):5142               Southwest: 786  \n",
       "               n_free_throw   minute_left      tot_min_left    seconds_left  \n",
       " 1 of 1              : 941   Min.   : 0.000   Min.   : 0.00   Min.   :  0.0  \n",
       " 1 of 2              :3376   1st Qu.: 1.000   1st Qu.: 7.25   1st Qu.: 84.0  \n",
       " 1 of 3              :  33   Median : 3.000   Median :21.00   Median :222.0  \n",
       " 2 of 2              :3379   Mean   : 3.829   Mean   :20.46   Mean   :257.6  \n",
       " 2 of 3              :  33   3rd Qu.: 6.000   3rd Qu.:31.00   3rd Qu.:397.0  \n",
       " 3 of 3              :  33   Max.   :12.000   Max.   :47.00   Max.   :720.0  \n",
       " technical free throw: 187                                                   \n",
       "  tot_sec_left        minute     \n",
       " Min.   :   0.0   Min.   : 1.00  \n",
       " 1st Qu.: 478.5   1st Qu.:17.00  \n",
       " Median :1270.0   Median :27.00  \n",
       " Mean   :1255.6   Mean   :27.54  \n",
       " 3rd Qu.:1887.5   3rd Qu.:40.75  \n",
       " Max.   :2872.0   Max.   :48.00  \n",
       "                                 "
      ]
     },
     "metadata": {},
     "output_type": "display_data"
    }
   ],
   "source": [
    "summary(kingJames)"
   ]
  },
  {
   "cell_type": "markdown",
   "metadata": {},
   "source": [
    "## Data Visualization"
   ]
  },
  {
   "cell_type": "markdown",
   "metadata": {},
   "source": [
    "### General "
   ]
  },
  {
   "cell_type": "code",
   "execution_count": 34,
   "metadata": {},
   "outputs": [
    {
     "data": {},
     "metadata": {},
     "output_type": "display_data"
    },
    {
     "data": {
      "image/png": "[encoded data removed]",
      "text/plain": [
       "plot without title"
      ]
     },
     "metadata": {},
     "output_type": "display_data"
    }
   ],
   "source": [
    "options(repr.plot.width=6, repr.plot.height=4)\n",
    "\n",
    "o1 <- kingJames %>%\n",
    "    group_by(minute) %>%\n",
    "    summarise(numberOfFreeThrows = n()) \n",
    "\n",
    "ggplot(data = o1, aes(x = minute, y = numberOfFreeThrows)) + \n",
    "    geom_line(size = 1.2,linetype = 1,color=4)+\n",
    "    geom_vline(xintercept=c(12,24,36,48), linetype=2,color = 'red',size = 0.75)+\n",
    "    theme_hc()"
   ]
  },
  {
   "cell_type": "markdown",
   "metadata": {},
   "source": [
    "    For each period, we can see that number of FT increase when we approach end of the period. As expected, this trend more powerful at the end of the first half and especially at the end of the match. "
   ]
  },
  {
   "cell_type": "code",
   "execution_count": 35,
   "metadata": {},
   "outputs": [
    {
     "data": {},
     "metadata": {},
     "output_type": "display_data"
    },
    {
     "data": {
      "image/png": "[encoded data removed]",
      "text/plain": [
       "plot without title"
      ]
     },
     "metadata": {},
     "output_type": "display_data"
    }
   ],
   "source": [
    "m1 <- kingJames %>%\n",
    "    group_by(minute, shot_made) %>%\n",
    "    summarise(numberOfShots = n()) %>%\n",
    "    mutate(FTpercentage = numberOfShots / sum(numberOfShots)*100) %>%\n",
    "    filter(shot_made == 1)\n",
    "\n",
    "ggplot(data = m1, aes(x = minute, y = FTpercentage)) + \n",
    "    geom_line(size = 1.2,linetype = 1,color=4)+\n",
    "    geom_vline(xintercept=c(12,24,36,48), linetype=2,color = 'red',size = 0.75)+\n",
    "    scale_y_continuous(limits = c(50,100))+\n",
    "    theme_hc()"
   ]
  },
  {
   "cell_type": "markdown",
   "metadata": {},
   "source": [
    "    There are a lot of oscillation in this plot. There are 48 points here and sepecially for the first minutes of the periods, there are very few observation and most probably this is the reason for that. Therefore, I generally prefer periods not minutes for other plots."
   ]
  },
  {
   "cell_type": "code",
   "execution_count": 36,
   "metadata": {},
   "outputs": [
    {
     "data": {},
     "metadata": {},
     "output_type": "display_data"
    },
    {
     "data": {
      "image/png": "[encoded data removed]",
      "text/plain": [
       "plot without title"
      ]
     },
     "metadata": {},
     "output_type": "display_data"
    }
   ],
   "source": [
    "averageFT = (5939 / 7982) * 100\n",
    "\n",
    "s1 <- kingJames %>%\n",
    "    group_by(season, shot_made) %>%\n",
    "    summarise(numberOfShots = n()) %>%\n",
    "    mutate(FTpercentage = numberOfShots / sum(numberOfShots)*100) %>%\n",
    "    filter(shot_made == 1)\n",
    "\n",
    "ggplot(data = s1, aes(x = season, y = FTpercentage,group = 1)) + \n",
    "    geom_line(size = 1.2,linetype = 1,color = 4)+\n",
    "    geom_point(size = 3, color = 4) +\n",
    "    scale_y_continuous(limits = c(60,90))+\n",
    "    geom_hline(yintercept=averageFT, linetype=2,color = 'red',size = 0.75)+\n",
    "    theme_hc() + \n",
    "    theme(axis.text.x = element_text(angle = 90, hjust = 1))"
   ]
  },
  {
   "cell_type": "markdown",
   "metadata": {},
   "source": [
    "### Home - Away"
   ]
  },
  {
   "cell_type": "code",
   "execution_count": 37,
   "metadata": {},
   "outputs": [
    {
     "data": {},
     "metadata": {},
     "output_type": "display_data"
    },
    {
     "data": {
      "image/png": "[encoded data removed]",
      "text/plain": [
       "plot without title"
      ]
     },
     "metadata": {},
     "output_type": "display_data"
    }
   ],
   "source": [
    "p2 <- kingJames %>%\n",
    "    group_by(period,home_or_away, shot_made) %>%\n",
    "    summarise(numberOfShots = n()) %>%\n",
    "    mutate(FTpercentage = numberOfShots / sum(numberOfShots)*100) %>%\n",
    "    filter(shot_made == 1, as.numeric(period) < 5)\n",
    "\n",
    "\n",
    "ggplot(data = p2, aes(x = period, y = FTpercentage,color = home_or_away)) + \n",
    "    geom_line(aes(group = home_or_away),size = 1.2,linetype = 1)+\n",
    "    geom_point(size = 3)+\n",
    "    scale_y_continuous(limits = c(60,100))+\n",
    "    scale_color_manual(values=c(\"yellow\", \"blue\"))+\n",
    "    theme_hc()"
   ]
  },
  {
   "cell_type": "code",
   "execution_count": 38,
   "metadata": {},
   "outputs": [
    {
     "data": {},
     "metadata": {},
     "output_type": "display_data"
    },
    {
     "data": {
      "image/png": "[encoded data removed]",
      "text/plain": [
       "plot without title"
      ]
     },
     "metadata": {},
     "output_type": "display_data"
    }
   ],
   "source": [
    "s2 <- kingJames %>%\n",
    "    group_by(season,home_or_away, shot_made) %>%\n",
    "    summarise(numberOfShots = n()) %>%\n",
    "    mutate(FTpercentage = numberOfShots / sum(numberOfShots)*100) %>%\n",
    "    filter(shot_made == 1)\n",
    "\n",
    "ggplot(data = s2, aes(x = season, y = FTpercentage,color = home_or_away)) + \n",
    "    geom_line(aes(group = home_or_away),size = 1.2,linetype = 1)+\n",
    "    geom_point(size = 3) +\n",
    "    scale_y_continuous(limits = c(60,90))+\n",
    "    scale_color_manual(values=c(\"yellow\", \"blue\"))+\n",
    "    theme_hc() + \n",
    "    theme(axis.text.x = element_text(angle = 90, hjust = 1))"
   ]
  },
  {
   "cell_type": "markdown",
   "metadata": {},
   "source": [
    "### Lead - Not Lead"
   ]
  },
  {
   "cell_type": "code",
   "execution_count": 39,
   "metadata": {},
   "outputs": [
    {
     "data": {},
     "metadata": {},
     "output_type": "display_data"
    },
    {
     "data": {
      "image/png": "[encoded data removed]",
      "text/plain": [
       "plot without title"
      ]
     },
     "metadata": {},
     "output_type": "display_data"
    }
   ],
   "source": [
    "p3 <- kingJames %>%\n",
    "    group_by(period,leading, shot_made) %>%\n",
    "    summarise(numberOfShots = n()) %>%\n",
    "    mutate(FTpercentage = numberOfShots / sum(numberOfShots)*100) %>%\n",
    "    filter(shot_made == 1, as.numeric(period) < 5)\n",
    "\n",
    "\n",
    "ggplot(data = p3, aes(x = period, y = FTpercentage,color = leading)) + \n",
    "    geom_line(aes(group = leading),size = 1.2,linetype = 1)+\n",
    "    geom_point(size = 3)+\n",
    "    scale_y_continuous(limits = c(60,90))+\n",
    "    scale_color_manual(values=c(\"yellow\", \"blue\"))+\n",
    "    theme_hc()"
   ]
  },
  {
   "cell_type": "code",
   "execution_count": 40,
   "metadata": {},
   "outputs": [
    {
     "data": {},
     "metadata": {},
     "output_type": "display_data"
    },
    {
     "data": {
      "image/png": "[encoded data removed]",
      "text/plain": [
       "plot without title"
      ]
     },
     "metadata": {},
     "output_type": "display_data"
    }
   ],
   "source": [
    "s3 <- kingJames %>%\n",
    "    group_by(season, leading, shot_made) %>%\n",
    "    summarise(numberOfShots = n()) %>%\n",
    "    mutate(FTpercentage = numberOfShots / sum(numberOfShots)*100) %>%\n",
    "    filter(shot_made == 1)\n",
    "\n",
    "ggplot(data = s3, aes(x = season, y = FTpercentage,color = leading)) + \n",
    "    geom_line(aes(group = leading),size = 1.2,linetype = 1)+\n",
    "    geom_point(size = 3) +\n",
    "    scale_y_continuous(limits = c(60,90))+\n",
    "    scale_color_manual(values=c(\"yellow\", \"blue\"))+\n",
    "    theme_hc() + \n",
    "    theme(axis.text.x = element_text(angle = 90, hjust = 1))"
   ]
  },
  {
   "cell_type": "markdown",
   "metadata": {},
   "source": [
    "    Can we say that LeBron struggle shooting free throws under pressure ? It is obvious that for all seasons he was better shoot when his team lead. Maybe the most important point is the last period when the fate of the match determined and his performance much better here when his team lead."
   ]
  },
  {
   "cell_type": "markdown",
   "metadata": {},
   "source": [
    "### Miami - Cleveland"
   ]
  },
  {
   "cell_type": "code",
   "execution_count": 41,
   "metadata": {},
   "outputs": [
    {
     "data": {},
     "metadata": {},
     "output_type": "display_data"
    },
    {
     "data": {
      "image/png": "[encoded data removed]",
      "text/plain": [
       "plot without title"
      ]
     },
     "metadata": {},
     "output_type": "display_data"
    }
   ],
   "source": [
    "p4 <- kingJames %>%\n",
    "    group_by(period,team, shot_made) %>%\n",
    "    summarise(numberOfShots = n()) %>%\n",
    "    mutate(FTpercentage = numberOfShots / sum(numberOfShots)*100) %>%\n",
    "    filter(shot_made == 1,as.numeric(period) < 5)\n",
    "\n",
    "ggplot(data = p4, aes(x = period, y = FTpercentage,color = team)) + \n",
    "    geom_line(aes(group = team),size = 1.2,linetype = 1)+\n",
    "    geom_point(size = 3) +\n",
    "    scale_y_continuous(limits = c(60,90))+\n",
    "    scale_color_manual(values=c(\"yellow\", \"blue\"))+\n",
    "    theme_hc()"
   ]
  },
  {
   "cell_type": "markdown",
   "metadata": {},
   "source": [
    "### Playoffs"
   ]
  },
  {
   "cell_type": "code",
   "execution_count": 42,
   "metadata": {},
   "outputs": [
    {
     "data": {},
     "metadata": {},
     "output_type": "display_data"
    },
    {
     "data": {
      "image/png": "[encoded data removed]",
      "text/plain": [
       "plot without title"
      ]
     },
     "metadata": {},
     "output_type": "display_data"
    }
   ],
   "source": [
    "p5 <- kingJames %>%\n",
    "    group_by(period,playoffs, shot_made) %>%\n",
    "    summarise(numberOfShots = n()) %>%\n",
    "    mutate(FTpercentage = numberOfShots / sum(numberOfShots)*100) %>%\n",
    "    filter(shot_made == 1,as.numeric(period) < 5)\n",
    "\n",
    "ggplot(data = p5, aes(x = period, y = FTpercentage,color = playoffs)) + \n",
    "    geom_line(aes(group = playoffs),size = 1.2,linetype = 1)+\n",
    "    geom_point(size = 3) +\n",
    "    scale_y_continuous(limits = c(60,90))+\n",
    "    scale_color_manual(values=c(\"yellow\", \"blue\"))+\n",
    "    theme_hc()"
   ]
  },
  {
   "cell_type": "code",
   "execution_count": 43,
   "metadata": {},
   "outputs": [
    {
     "data": {},
     "metadata": {},
     "output_type": "display_data"
    },
    {
     "data": {
      "image/png": "[encoded data removed]",
      "text/plain": [
       "plot without title"
      ]
     },
     "metadata": {},
     "output_type": "display_data"
    }
   ],
   "source": [
    "s5 <- kingJames %>%\n",
    "    group_by(season, playoffs, shot_made) %>%\n",
    "    summarise(numberOfShots = n()) %>%\n",
    "    mutate(FTpercentage = numberOfShots / sum(numberOfShots)*100) %>%\n",
    "    filter(shot_made == 1)\n",
    "\n",
    "ggplot(data = s5, aes(x = season, y = FTpercentage,color = playoffs)) + \n",
    "    geom_line(aes(group = playoffs),size = 1.2,linetype = 1)+\n",
    "    geom_point(size = 3) +\n",
    "    scale_y_continuous(limits = c(60,90))+\n",
    "    scale_color_manual(values=c(\"yellow\", \"blue\"))+\n",
    "    theme_hc() + \n",
    "    theme(axis.text.x = element_text(angle = 90, hjust = 1))"
   ]
  },
  {
   "cell_type": "markdown",
   "metadata": {},
   "source": [
    "    2011-2012, 2012-2013 and 2015-2016 seasons are the seasons that LeBron's team was champion and he was named final's MVP. It is interesting to see that for these seasons his playoffs free throw performance same or worse than regular season performance."
   ]
  },
  {
   "cell_type": "markdown",
   "metadata": {},
   "source": [
    "### Win - Lose"
   ]
  },
  {
   "cell_type": "code",
   "execution_count": 44,
   "metadata": {},
   "outputs": [
    {
     "data": {},
     "metadata": {},
     "output_type": "display_data"
    },
    {
     "data": {
      "image/png": "[encoded data removed]",
      "text/plain": [
       "plot without title"
      ]
     },
     "metadata": {},
     "output_type": "display_data"
    }
   ],
   "source": [
    "p6 <- kingJames %>%\n",
    "    group_by(period, win_or_lose, shot_made) %>%\n",
    "    summarise(numberOfShots = n()) %>%\n",
    "    mutate(FTpercentage = numberOfShots / sum(numberOfShots)*100) %>%\n",
    "    filter(shot_made == 1, as.numeric(period) < 5)\n",
    "\n",
    "\n",
    "ggplot(data = p6, aes(x = period, y = FTpercentage,color = win_or_lose)) + \n",
    "    geom_line(aes(group = win_or_lose),size = 1.2,linetype = 1)+\n",
    "    geom_point(size = 3) +\n",
    "    scale_y_continuous(limits = c(60,90))+\n",
    "    scale_color_manual(values=c(\"yellow\", \"blue\"))+\n",
    "    theme_hc()"
   ]
  },
  {
   "cell_type": "code",
   "execution_count": 45,
   "metadata": {},
   "outputs": [
    {
     "data": {},
     "metadata": {},
     "output_type": "display_data"
    },
    {
     "data": {
      "image/png": "[encoded data removed]",
      "text/plain": [
       "plot without title"
      ]
     },
     "metadata": {},
     "output_type": "display_data"
    }
   ],
   "source": [
    "s2 <- kingJames %>%\n",
    "    group_by(season, win_or_lose, shot_made) %>%\n",
    "    summarise(numberOfShots = n()) %>%\n",
    "    mutate(FTpercentage = numberOfShots / sum(numberOfShots)*100) %>%\n",
    "    filter(shot_made == 1)\n",
    "\n",
    "ggplot(data = s2, aes(x = season, y = FTpercentage,color = win_or_lose)) + \n",
    "    geom_line(aes(group = win_or_lose),size = 1.2,linetype = 1)+\n",
    "    geom_point(size = 3) +\n",
    "    scale_y_continuous(limits = c(60,90))+\n",
    "    scale_color_manual(values=c(\"yellow\", \"blue\"))+\n",
    "    theme_hc() + \n",
    "    theme(axis.text.x = element_text(angle = 90, hjust = 1))"
   ]
  },
  {
   "cell_type": "markdown",
   "metadata": {},
   "source": [
    "    The most interesting point for me here is that the matches which LeBron's team lost, his third period average FT % below the 70 percent and approximately there is a 6-7 % difference between FT % of winning and losing matches. "
   ]
  },
  {
   "cell_type": "markdown",
   "metadata": {},
   "source": [
    "### East - West"
   ]
  },
  {
   "cell_type": "code",
   "execution_count": 46,
   "metadata": {},
   "outputs": [
    {
     "data": {},
     "metadata": {},
     "output_type": "display_data"
    },
    {
     "data": {
      "image/png": "[encoded data removed]",
      "text/plain": [
       "plot without title"
      ]
     },
     "metadata": {},
     "output_type": "display_data"
    }
   ],
   "source": [
    "p7 <- kingJames %>%\n",
    "    group_by(period, conference, shot_made) %>%\n",
    "    summarise(numberOfShots = n()) %>%\n",
    "    mutate(FTpercentage = numberOfShots / sum(numberOfShots)*100) %>%\n",
    "    filter(shot_made == 1, as.numeric(period) < 5)\n",
    "\n",
    "ggplot(data = p7, aes(x = period, y = FTpercentage,color = conference)) + \n",
    "    geom_line(aes(group = conference),size = 1.2,linetype = 1)+\n",
    "    geom_point(size = 3) +\n",
    "    scale_y_continuous(limits = c(60,90))+\n",
    "    scale_color_manual(values=c(\"yellow\", \"blue\"))+\n",
    "    theme_hc()"
   ]
  },
  {
   "cell_type": "code",
   "execution_count": 47,
   "metadata": {},
   "outputs": [
    {
     "data": {},
     "metadata": {},
     "output_type": "display_data"
    },
    {
     "data": {
      "image/png": "[encoded data removed]",
      "text/plain": [
       "plot without title"
      ]
     },
     "metadata": {},
     "output_type": "display_data"
    }
   ],
   "source": [
    "s2 <- kingJames %>%\n",
    "    group_by(season, conference, shot_made) %>%\n",
    "    summarise(numberOfShots = n()) %>%\n",
    "    mutate(FTpercentage = numberOfShots / sum(numberOfShots)*100) %>%\n",
    "    filter(shot_made == 1)\n",
    "\n",
    "ggplot(data = s2, aes(x = season, y = FTpercentage,color = conference)) + \n",
    "    geom_line(aes(group = conference),size = 1.2,linetype = 1)+\n",
    "    geom_point(size = 3) +\n",
    "    scale_y_continuous(limits = c(60,90))+\n",
    "    scale_color_manual(values=c(\"yellow\", \"blue\"))+\n",
    "    theme_hc() + \n",
    "    theme(axis.text.x = element_text(angle = 90, hjust = 1))"
   ]
  },
  {
   "cell_type": "markdown",
   "metadata": {},
   "source": [
    "### Coach"
   ]
  },
  {
   "cell_type": "code",
   "execution_count": 48,
   "metadata": {},
   "outputs": [
    {
     "data": {},
     "metadata": {},
     "output_type": "display_data"
    },
    {
     "data": {
      "image/png": "[encoded data removed]",
      "text/plain": [
       "plot without title"
      ]
     },
     "metadata": {},
     "output_type": "display_data"
    }
   ],
   "source": [
    "p8 <- kingJames %>%\n",
    "    group_by(period, coach, shot_made) %>%\n",
    "    summarise(numberOfShots = n()) %>%\n",
    "    mutate(FTpercentage = numberOfShots / sum(numberOfShots)*100) %>%\n",
    "    filter(shot_made == 1,as.numeric(period) < 5)\n",
    "\n",
    "ggplot(data = p8, aes(x = period, y = FTpercentage,color = coach)) + \n",
    "    geom_line(aes(group = coach),size = 1.2,linetype = 1)+\n",
    "    geom_point(size = 3) +\n",
    "    scale_y_continuous(limits = c(60,90))+\n",
    "    scale_color_manual(values=c(\"yellow\", \"blue\",\"green\"))+\n",
    "    theme_hc()"
   ]
  },
  {
   "cell_type": "markdown",
   "metadata": {},
   "source": [
    "    Actually we can also evaluate this plot as LeBron FT performance in CLE-1, MIA, CLE-2 instead of with Mike Brown, Erik Spoelstra and David Blatt. Maybe it is good to remind that LeBron work 4 season with Brown and Spoelstra and 2 season(almost) with Blatt."
   ]
  },
  {
   "cell_type": "markdown",
   "metadata": {},
   "source": [
    "### 1 of 2 - 2 of 2"
   ]
  },
  {
   "cell_type": "code",
   "execution_count": 49,
   "metadata": {},
   "outputs": [
    {
     "data": {},
     "metadata": {},
     "output_type": "display_data"
    },
    {
     "data": {
      "image/png": "[encoded data removed]",
      "text/plain": [
       "plot without title"
      ]
     },
     "metadata": {},
     "output_type": "display_data"
    }
   ],
   "source": [
    "p8 <- kingJames %>%\n",
    "    group_by(period, n_free_throw, shot_made) %>%\n",
    "    summarise(numberOfShots = n()) %>%\n",
    "    mutate(FTpercentage = numberOfShots / sum(numberOfShots)*100) %>%\n",
    "    filter(shot_made == 1,as.numeric(period) < 5,\n",
    "          n_free_throw %in% c('1 of 2', '2 of 2'))\n",
    "\n",
    "ggplot(data = p8, aes(x = period, y = FTpercentage,color = n_free_throw)) + \n",
    "    geom_line(aes(group = n_free_throw),size = 1.2,linetype = 1)+\n",
    "    geom_point(size = 3) +\n",
    "    scale_y_continuous(limits = c(60,90))+\n",
    "    scale_color_manual(values=c(\"yellow\", \"blue\",\"green\"))+\n",
    "    theme_hc()"
   ]
  },
  {
   "cell_type": "code",
   "execution_count": 50,
   "metadata": {},
   "outputs": [
    {
     "data": {},
     "metadata": {},
     "output_type": "display_data"
    },
    {
     "data": {
      "image/png": "[encoded data removed]",
      "text/plain": [
       "plot without title"
      ]
     },
     "metadata": {},
     "output_type": "display_data"
    }
   ],
   "source": [
    "s2 <- kingJames %>%\n",
    "    group_by(season, n_free_throw, shot_made) %>%\n",
    "    summarise(numberOfShots = n()) %>%\n",
    "    mutate(FTpercentage = numberOfShots / sum(numberOfShots)*100) %>%\n",
    "    filter(shot_made == 1, n_free_throw %in% c('1 of 2', '2 of 2'))\n",
    "\n",
    "ggplot(data = s2, aes(x = season, y = FTpercentage,color = n_free_throw)) + \n",
    "    geom_line(aes(group = n_free_throw),size = 1.2,linetype = 1)+\n",
    "    geom_point(size = 3) +\n",
    "    scale_y_continuous(limits = c(60,90))+\n",
    "    scale_color_manual(values=c(\"yellow\", \"blue\"))+\n",
    "    theme_hc() + \n",
    "    theme(axis.text.x = element_text(angle = 90, hjust = 1))"
   ]
  },
  {
   "cell_type": "markdown",
   "metadata": {},
   "source": [
    "    LeBron is far better at free throw 2 of 2 for all seasons and periods. Maybe it is not special to LeBron but still it is good to see."
   ]
  },
  {
   "cell_type": "markdown",
   "metadata": {},
   "source": [
    "### Difference"
   ]
  },
  {
   "cell_type": "code",
   "execution_count": 51,
   "metadata": {},
   "outputs": [],
   "source": [
    "theme_x <- theme_hc() + theme(strip.background  = element_rect(fill = 'black'),\n",
    "                           strip.text = element_text(color = 'white', size = 11), panel.spacing = unit(1.25, \"lines\"))"
   ]
  },
  {
   "cell_type": "code",
   "execution_count": 52,
   "metadata": {},
   "outputs": [
    {
     "data": {},
     "metadata": {},
     "output_type": "display_data"
    },
    {
     "data": {
      "image/png": "[encoded data removed]",
      "text/plain": [
       "plot without title"
      ]
     },
     "metadata": {},
     "output_type": "display_data"
    }
   ],
   "source": [
    "s4 <- kingJames %>% \n",
    "  group_by(difference,shot_made) %>%\n",
    "  summarise(n = n()) %>%\n",
    "  mutate(FTpercentage = n / sum(n)*100) %>%\n",
    "  filter(shot_made == 1)\n",
    "\n",
    "ggplot(data = s4, aes(x = difference, y = FTpercentage)) + \n",
    "    geom_point(color = 2)+\n",
    "    geom_smooth(method = loess)+\n",
    "    theme_x"
   ]
  },
  {
   "cell_type": "markdown",
   "metadata": {},
   "source": [
    "### End Difference"
   ]
  },
  {
   "cell_type": "code",
   "execution_count": 53,
   "metadata": {},
   "outputs": [
    {
     "data": {},
     "metadata": {},
     "output_type": "display_data"
    },
    {
     "data": {
      "image/png": "[encoded data removed]",
      "text/plain": [
       "plot without title"
      ]
     },
     "metadata": {},
     "output_type": "display_data"
    }
   ],
   "source": [
    "s4 <- kingJames %>% \n",
    "  group_by(endDifference,shot_made) %>%\n",
    "  summarise(n = n()) %>%\n",
    "  mutate(FTpercentage = n / sum(n)*100) %>%\n",
    "  filter(shot_made == 1)\n",
    "\n",
    "ggplot(data = s4, aes(x = endDifference, y = FTpercentage)) + \n",
    "    geom_point(color = 2)+\n",
    "    geom_smooth(method = loess)+\n",
    "    theme_x"
   ]
  },
  {
   "cell_type": "markdown",
   "metadata": {},
   "source": [
    "## Digging Into Details"
   ]
  },
  {
   "cell_type": "code",
   "execution_count": 54,
   "metadata": {},
   "outputs": [],
   "source": [
    "theme_x <- theme_hc() + theme(strip.background  = element_rect(fill = 'black'),\n",
    "                           strip.text = element_text(color = 'white', size = 11), panel.spacing = unit(1.25, \"lines\"))\n",
    "options(repr.plot.width=6.5, repr.plot.height=4.25)"
   ]
  },
  {
   "cell_type": "code",
   "execution_count": 55,
   "metadata": {},
   "outputs": [
    {
     "data": {},
     "metadata": {},
     "output_type": "display_data"
    },
    {
     "data": {
      "image/png": "[encoded data removed]",
      "text/plain": [
       "plot without title"
      ]
     },
     "metadata": {},
     "output_type": "display_data"
    }
   ],
   "source": [
    "x1 <- kingJames %>% \n",
    "  group_by(team, period,playoffs,leading, shot_made) %>%\n",
    "  summarise(n = n()) %>%\n",
    "  mutate(FTpercentage = n / sum(n)*100) %>%\n",
    "  filter(shot_made == 1, as.numeric(period) < 5)\n",
    "\n",
    "\n",
    "ggplot(data = x1, aes(x = period, y = FTpercentage, color = leading)) + \n",
    "    geom_point()+\n",
    "    geom_line(aes(group = leading)) +\n",
    "    facet_grid(team ~ playoffs) +\n",
    "    scale_y_continuous(limits = c(50, 90))+\n",
    "    scale_color_manual(values=c(\"red\", \"blue\"))+\n",
    "    theme_x"
   ]
  },
  {
   "cell_type": "code",
   "execution_count": 56,
   "metadata": {},
   "outputs": [
    {
     "data": {},
     "metadata": {},
     "output_type": "display_data"
    },
    {
     "data": {
      "image/png": "[encoded data removed]",
      "text/plain": [
       "plot without title"
      ]
     },
     "metadata": {},
     "output_type": "display_data"
    }
   ],
   "source": [
    "x2 <- kingJames %>% \n",
    "  group_by(team, period,playoffs,win_or_lose, shot_made) %>%\n",
    "  summarise(n = n()) %>%\n",
    "  mutate(FTpercentage = n / sum(n)*100) %>%\n",
    "  filter(shot_made == 1, as.numeric(period) < 5)\n",
    "\n",
    "\n",
    "ggplot(data = x2, aes(x = period, y = FTpercentage, color = win_or_lose)) + \n",
    "    geom_point()+\n",
    "    geom_line(aes(group = win_or_lose)) +\n",
    "    facet_grid(team ~ playoffs) +\n",
    "    scale_y_continuous(limits = c(50, 90))+\n",
    "    scale_color_manual(values=c(\"red\", \"blue\"))+\n",
    "    theme_x"
   ]
  },
  {
   "cell_type": "code",
   "execution_count": 57,
   "metadata": {},
   "outputs": [
    {
     "data": {},
     "metadata": {},
     "output_type": "display_data"
    },
    {
     "data": {
      "image/png": "[encoded data removed]",
      "text/plain": [
       "plot without title"
      ]
     },
     "metadata": {},
     "output_type": "display_data"
    }
   ],
   "source": [
    "x3 <- kingJames %>% \n",
    "  group_by(team, period,playoffs,home_or_away, shot_made) %>%\n",
    "  summarise(n = n()) %>%\n",
    "  mutate(FTpercentage = n / sum(n)*100) %>%\n",
    "  filter(shot_made == 1, as.numeric(period) < 5)\n",
    "\n",
    "\n",
    "ggplot(data = x3, aes(x = period, y = FTpercentage, color = home_or_away)) + \n",
    "    geom_point()+\n",
    "    geom_line(aes(group = home_or_away)) +\n",
    "    facet_grid(team ~ playoffs) +\n",
    "    scale_y_continuous(limits = c(50, 90))+\n",
    "    scale_color_manual(values=c(\"red\", \"blue\"))+\n",
    "    theme_x"
   ]
  },
  {
   "cell_type": "code",
   "execution_count": 58,
   "metadata": {},
   "outputs": [
    {
     "data": {},
     "metadata": {},
     "output_type": "display_data"
    },
    {
     "data": {
      "image/png": "[encoded data removed]",
      "text/plain": [
       "plot without title"
      ]
     },
     "metadata": {},
     "output_type": "display_data"
    }
   ],
   "source": [
    "x4 <- kingJames %>% \n",
    "  group_by(team, period,playoffs,n_free_throw, shot_made) %>%\n",
    "  summarise(n = n()) %>%\n",
    "  mutate(FTpercentage = n / sum(n)*100) %>%\n",
    "  filter(shot_made == 1,n_free_throw %in% c('1 of 2', '2 of 2'),\n",
    "         as.numeric(period) < 5)\n",
    "\n",
    "\n",
    "ggplot(data = x4, aes(x = period, y = FTpercentage, color = n_free_throw)) + \n",
    "    geom_point()+\n",
    "    geom_line(aes(group = n_free_throw)) +\n",
    "    facet_grid(team ~ playoffs) +\n",
    "    scale_y_continuous(limits = c(50, 100))+\n",
    "    scale_color_manual(values=c(\"red\", \"blue\"))+\n",
    "    theme_x"
   ]
  },
  {
   "cell_type": "code",
   "execution_count": 59,
   "metadata": {},
   "outputs": [
    {
     "data": {},
     "metadata": {},
     "output_type": "display_data"
    },
    {
     "data": {
      "image/png": "[encoded data removed]",
      "text/plain": [
       "plot without title"
      ]
     },
     "metadata": {},
     "output_type": "display_data"
    }
   ],
   "source": [
    "x5 <- kingJames %>% \n",
    "  group_by(home_or_away, period,conference,n_free_throw, shot_made) %>%\n",
    "  summarise(n = n()) %>%\n",
    "  mutate(FTpercentage = n / sum(n)*100) %>%\n",
    "  filter(shot_made == 1,n_free_throw %in% c('1 of 2', '2 of 2'),\n",
    "         as.numeric(period) < 5)\n",
    "\n",
    "\n",
    "ggplot(data = x5, aes(x = period, y = FTpercentage, color = n_free_throw)) + \n",
    "    geom_point()+\n",
    "    geom_line(aes(group = n_free_throw)) +\n",
    "    facet_grid(home_or_away ~ conference) +\n",
    "    scale_y_continuous(limits = c(50, 100))+\n",
    "    scale_color_manual(values=c(\"red\", \"blue\"))+\n",
    "    theme_x"
   ]
  },
  {
   "cell_type": "code",
   "execution_count": 60,
   "metadata": {},
   "outputs": [
    {
     "data": {},
     "metadata": {},
     "output_type": "display_data"
    },
    {
     "data": {
      "image/png": "[encoded data removed]",
      "text/plain": [
       "plot without title"
      ]
     },
     "metadata": {},
     "output_type": "display_data"
    }
   ],
   "source": [
    "x6 <- kingJames %>% \n",
    "  group_by(leading, period,conference,n_free_throw, shot_made) %>%\n",
    "  summarise(n = n()) %>%\n",
    "  mutate(FTpercentage = n / sum(n)*100) %>%\n",
    "  filter(shot_made == 1,n_free_throw %in% c('1 of 2', '2 of 2'),\n",
    "         as.numeric(period) < 5)\n",
    "\n",
    "\n",
    "ggplot(data = x6, aes(x = period, y = FTpercentage, color = n_free_throw)) + \n",
    "    geom_point()+\n",
    "    geom_line(aes(group = n_free_throw)) +\n",
    "    facet_grid(leading ~ conference) +\n",
    "    scale_y_continuous(limits = c(50, 100))+\n",
    "    scale_color_manual(values=c(\"red\", \"blue\"))+\n",
    "    theme_x"
   ]
  },
  {
   "cell_type": "code",
   "execution_count": 61,
   "metadata": {},
   "outputs": [
    {
     "data": {},
     "metadata": {},
     "output_type": "display_data"
    },
    {
     "data": {
      "image/png": "[encoded data removed]",
      "text/plain": [
       "plot without title"
      ]
     },
     "metadata": {},
     "output_type": "display_data"
    }
   ],
   "source": [
    "x7 <- kingJames %>% \n",
    "  group_by(home_or_away, period,leading,n_free_throw, shot_made) %>%\n",
    "  summarise(n = n()) %>%\n",
    "  mutate(FTpercentage = n / sum(n)*100) %>%\n",
    "  filter(shot_made == 1,n_free_throw %in% c('1 of 2', '2 of 2'),\n",
    "         as.numeric(period) < 5)\n",
    "\n",
    "\n",
    "ggplot(data = x7, aes(x = period, y = FTpercentage, color = n_free_throw)) + \n",
    "    geom_point()+\n",
    "    geom_line(aes(group = n_free_throw)) +\n",
    "    facet_grid(home_or_away ~ leading) +\n",
    "    scale_y_continuous(limits = c(50, 100))+\n",
    "    scale_color_manual(values=c(\"red\", \"blue\"))+\n",
    "    theme_x"
   ]
  },
  {
   "cell_type": "code",
   "execution_count": 62,
   "metadata": {},
   "outputs": [
    {
     "data": {},
     "metadata": {},
     "output_type": "display_data"
    },
    {
     "data": {
      "image/png": "[encoded data removed]",
      "text/plain": [
       "plot without title"
      ]
     },
     "metadata": {},
     "output_type": "display_data"
    }
   ],
   "source": [
    "x7 <- kingJames %>% \n",
    "  group_by(win_or_lose, period,conference,n_free_throw, shot_made) %>%\n",
    "  summarise(n = n()) %>%\n",
    "  mutate(FTpercentage = n / sum(n)*100) %>%\n",
    "  filter(shot_made == 1,n_free_throw %in% c('1 of 2', '2 of 2'),\n",
    "         as.numeric(period) < 5)\n",
    "\n",
    "\n",
    "ggplot(data = x7, aes(x = period, y = FTpercentage, color = n_free_throw)) + \n",
    "    geom_point()+\n",
    "    geom_line(aes(group = n_free_throw)) +\n",
    "    facet_grid(win_or_lose ~ conference) +\n",
    "    scale_y_continuous(limits = c(60, 90))+\n",
    "    scale_color_manual(values=c(\"red\", \"blue\"))+\n",
    "    theme_x"
   ]
  },
  {
   "cell_type": "code",
   "execution_count": 63,
   "metadata": {},
   "outputs": [
    {
     "data": {},
     "metadata": {},
     "output_type": "display_data"
    },
    {
     "data": {
      "image/png": "[encoded data removed]",
      "text/plain": [
       "plot without title"
      ]
     },
     "metadata": {},
     "output_type": "display_data"
    }
   ],
   "source": [
    "x9 <- kingJames %>% \n",
    "  group_by(home_or_away, period,coach,n_free_throw, shot_made) %>%\n",
    "  summarise(n = n()) %>%\n",
    "  mutate(FTpercentage = n / sum(n)*100) %>%\n",
    "  filter(shot_made == 1,n_free_throw %in% c('1 of 2', '2 of 2'),\n",
    "         as.numeric(period) < 5)\n",
    "\n",
    "\n",
    "ggplot(data = x9, aes(x = period, y = FTpercentage, color = n_free_throw)) + \n",
    "    geom_point()+\n",
    "    geom_line(aes(group = n_free_throw)) +\n",
    "    facet_grid(home_or_away~ coach) +\n",
    "    scale_y_continuous(limits = c(50, 90))+\n",
    "    scale_color_manual(values=c(\"red\", \"blue\"))+\n",
    "    theme_x"
   ]
  },
  {
   "cell_type": "code",
   "execution_count": 64,
   "metadata": {},
   "outputs": [
    {
     "data": {},
     "metadata": {},
     "output_type": "display_data"
    },
    {
     "data": {
      "image/png": "[encoded data removed]",
      "text/plain": [
       "plot without title"
      ]
     },
     "metadata": {},
     "output_type": "display_data"
    }
   ],
   "source": [
    "x10 <- kingJames %>% \n",
    "  group_by(leading, period,coach,n_free_throw, shot_made) %>%\n",
    "  summarise(n = n()) %>%\n",
    "  mutate(FTpercentage = n / sum(n)*100) %>%\n",
    "  filter(shot_made == 1,n_free_throw %in% c('1 of 2', '2 of 2'),\n",
    "         as.numeric(period) < 5)\n",
    "\n",
    "\n",
    "ggplot(data = x10, aes(x = period, y = FTpercentage, color = n_free_throw)) + \n",
    "    geom_point()+\n",
    "    geom_line(aes(group = n_free_throw)) +\n",
    "    facet_grid(leading~ coach) +\n",
    "    scale_y_continuous(limits = c(50, 100))+\n",
    "    scale_color_manual(values=c(\"red\", \"blue\"))+\n",
    "    theme_x"
   ]
  },
  {
   "cell_type": "code",
   "execution_count": 65,
   "metadata": {},
   "outputs": [
    {
     "data": {},
     "metadata": {},
     "output_type": "display_data"
    },
    {
     "data": {
      "image/png": "[encoded data removed]",
      "text/plain": [
       "plot without title"
      ]
     },
     "metadata": {},
     "output_type": "display_data"
    }
   ],
   "source": [
    "x11 <- kingJames %>% \n",
    "  group_by(conference, period,coach,n_free_throw, shot_made) %>%\n",
    "  summarise(n = n()) %>%\n",
    "  mutate(FTpercentage = n / sum(n)*100) %>%\n",
    "  filter(shot_made == 1,n_free_throw %in% c('1 of 2', '2 of 2'),\n",
    "         as.numeric(period) < 5)\n",
    "\n",
    "\n",
    "ggplot(data = x11, aes(x = period, y = FTpercentage, color = n_free_throw)) + \n",
    "    geom_point()+\n",
    "    geom_line(aes(group = n_free_throw)) +\n",
    "    facet_grid(conference ~ coach) +\n",
    "    scale_y_continuous(limits = c(50, 100))+\n",
    "    scale_color_manual(values=c(\"red\", \"blue\"))+\n",
    "    theme_x"
   ]
  },
  {
   "cell_type": "code",
   "execution_count": 66,
   "metadata": {},
   "outputs": [
    {
     "data": {},
     "metadata": {},
     "output_type": "display_data"
    },
    {
     "data": {
      "image/png": "[encoded data removed]",
      "text/plain": [
       "plot without title"
      ]
     },
     "metadata": {},
     "output_type": "display_data"
    }
   ],
   "source": [
    "x12 <- kingJames %>% \n",
    "  group_by(playoffs, period,coach,n_free_throw, shot_made) %>%\n",
    "  summarise(n = n()) %>%\n",
    "  mutate(FTpercentage = n / sum(n)*100) %>%\n",
    "  filter(shot_made == 1,n_free_throw %in% c('1 of 2', '2 of 2'),\n",
    "         as.numeric(period) < 5)\n",
    "\n",
    "\n",
    "ggplot(data = x12, aes(x = period, y = FTpercentage, color = n_free_throw)) + \n",
    "    geom_point()+\n",
    "    geom_line(aes(group = n_free_throw)) +\n",
    "    facet_grid(playoffs ~ coach) +\n",
    "    scale_y_continuous(limits = c(50, 100))+\n",
    "    scale_color_manual(values=c(\"red\", \"blue\"))+\n",
    "    theme_x"
   ]
  },
  {
   "cell_type": "code",
   "execution_count": 67,
   "metadata": {},
   "outputs": [
    {
     "data": {},
     "metadata": {},
     "output_type": "display_data"
    },
    {
     "data": {
      "image/png": "[encoded data removed]",
      "text/plain": [
       "plot without title"
      ]
     },
     "metadata": {},
     "output_type": "display_data"
    }
   ],
   "source": [
    "x13 <- kingJames %>% \n",
    "  group_by(division, period,n_free_throw, shot_made) %>%\n",
    "  summarise(n = n()) %>%\n",
    "  mutate(FTpercentage = n / sum(n)*100) %>%\n",
    "  filter(shot_made == 1,n_free_throw %in% c('1 of 2', '2 of 2'),\n",
    "         as.numeric(period) < 5)\n",
    "\n",
    "\n",
    "ggplot(data = x13, aes(x = period, y = FTpercentage, color = n_free_throw)) + \n",
    "    geom_point()+\n",
    "    geom_line(aes(group = n_free_throw)) +\n",
    "    facet_wrap(~ division) +\n",
    "    scale_y_continuous(limits = c(50, 100))+\n",
    "    scale_color_manual(values=c(\"red\", \"blue\"))+\n",
    "    theme_x"
   ]
  },
  {
   "cell_type": "code",
   "execution_count": 68,
   "metadata": {},
   "outputs": [
    {
     "data": {},
     "metadata": {},
     "output_type": "display_data"
    },
    {
     "data": {
      "image/png": "[encoded data removed]",
      "text/plain": [
       "plot without title"
      ]
     },
     "metadata": {},
     "output_type": "display_data"
    }
   ],
   "source": [
    "x14 <- kingJames %>% \n",
    "  group_by(division, period,leading, shot_made) %>%\n",
    "  summarise(n = n()) %>%\n",
    "  mutate(FTpercentage = n / sum(n)*100) %>%\n",
    "  filter(shot_made == 1,as.numeric(period) < 5)\n",
    "\n",
    "\n",
    "ggplot(data = x14, aes(x = period, y = FTpercentage, color = leading)) + \n",
    "    geom_point()+\n",
    "    geom_line(aes(group = leading)) +\n",
    "    facet_wrap(~ division) +\n",
    "    scale_y_continuous(limits = c(50, 100))+\n",
    "    scale_color_manual(values=c(\"red\", \"blue\"))+\n",
    "    theme_x"
   ]
  },
  {
   "cell_type": "code",
   "execution_count": 69,
   "metadata": {},
   "outputs": [
    {
     "data": {},
     "metadata": {},
     "output_type": "display_data"
    },
    {
     "data": {
      "image/png": "[encoded data removed]",
      "text/plain": [
       "plot without title"
      ]
     },
     "metadata": {},
     "output_type": "display_data"
    }
   ],
   "source": [
    "x15 <- kingJames %>% \n",
    "  group_by(division, period,win_or_lose, shot_made) %>%\n",
    "  summarise(n = n()) %>%\n",
    "  mutate(FTpercentage = n / sum(n)*100) %>%\n",
    "  filter(shot_made == 1,as.numeric(period) < 5)\n",
    "\n",
    "\n",
    "ggplot(data = x15, aes(x = period, y = FTpercentage, color = win_or_lose)) + \n",
    "    geom_point()+\n",
    "    geom_line(aes(group = win_or_lose)) +\n",
    "    facet_wrap(~ division) +\n",
    "    scale_y_continuous(limits = c(50, 100))+\n",
    "    scale_color_manual(values=c(\"red\", \"blue\"))+\n",
    "    theme_x"
   ]
  },
  {
   "cell_type": "code",
   "execution_count": 70,
   "metadata": {},
   "outputs": [
    {
     "data": {},
     "metadata": {},
     "output_type": "display_data"
    },
    {
     "data": {
      "image/png": "[encoded data removed]",
      "text/plain": [
       "plot without title"
      ]
     },
     "metadata": {},
     "output_type": "display_data"
    }
   ],
   "source": [
    "x16 <- kingJames %>% \n",
    "  group_by(division, period, home_or_away, shot_made) %>%\n",
    "  summarise(n = n()) %>%\n",
    "  mutate(FTpercentage = n / sum(n)*100) %>%\n",
    "  filter(shot_made == 1,as.numeric(period) < 5)\n",
    "\n",
    "\n",
    "ggplot(data = x16, aes(x = period, y = FTpercentage, color = home_or_away)) + \n",
    "    geom_point()+\n",
    "    geom_line(aes(group = home_or_away)) +\n",
    "    facet_wrap(~ division) +\n",
    "    scale_y_continuous(limits = c(50, 100))+\n",
    "    scale_color_manual(values=c(\"red\", \"blue\"))+\n",
    "    theme_x"
   ]
  },
  {
   "cell_type": "code",
   "execution_count": 71,
   "metadata": {},
   "outputs": [
    {
     "data": {},
     "metadata": {},
     "output_type": "display_data"
    },
    {
     "data": {
      "image/png": "[encoded data removed]",
      "text/plain": [
       "plot without title"
      ]
     },
     "metadata": {},
     "output_type": "display_data"
    }
   ],
   "source": [
    "options(repr.plot.width=6, repr.plot.height=6)\n",
    "\n",
    "x17 <- kingJames %>% \n",
    "  group_by(period, season,n_free_throw, shot_made) %>%\n",
    "  summarise(n = n()) %>%\n",
    "  mutate(FTpercentage = n / sum(n)*100) %>%\n",
    "  filter(shot_made == 1, n_free_throw %in% c('1 of 2', '2 of 2'),\n",
    "         as.numeric(period) < 5)\n",
    "\n",
    "ggplot(data = x17, aes(x = period, y = FTpercentage, color = n_free_throw)) + \n",
    "    geom_point()+\n",
    "    geom_line(aes(group = n_free_throw)) +\n",
    "    facet_wrap(~season) +\n",
    "    scale_color_manual(values=c(\"red\", \"blue\"))+\n",
    "    scale_y_continuous(limits = c(50, 100))+\n",
    "    theme_x \n",
    "    "
   ]
  },
  {
   "cell_type": "code",
   "execution_count": 72,
   "metadata": {},
   "outputs": [
    {
     "data": {},
     "metadata": {},
     "output_type": "display_data"
    },
    {
     "data": {
      "image/png": "[encoded data removed]",
      "text/plain": [
       "plot without title"
      ]
     },
     "metadata": {},
     "output_type": "display_data"
    }
   ],
   "source": [
    "x18 <- kingJames %>% \n",
    "  group_by(period, season,leading, shot_made) %>%\n",
    "  summarise(n = n()) %>%\n",
    "  mutate(FTpercentage = n / sum(n)*100) %>%\n",
    "  filter(shot_made == 1, as.numeric(period) < 5)\n",
    "\n",
    "ggplot(data = x18, aes(x = period, y = FTpercentage, color = leading)) + \n",
    "    geom_point()+\n",
    "    geom_line(aes(group = leading)) +\n",
    "    facet_wrap(~season) +\n",
    "    scale_color_manual(values=c(\"red\", \"blue\"))+\n",
    "    scale_y_continuous(limits = c(50, 100))+\n",
    "    theme_x \n",
    "    "
   ]
  },
  {
   "cell_type": "code",
   "execution_count": 73,
   "metadata": {},
   "outputs": [
    {
     "data": {},
     "metadata": {},
     "output_type": "display_data"
    },
    {
     "data": {
      "image/png": "[encoded data removed]",
      "text/plain": [
       "plot without title"
      ]
     },
     "metadata": {},
     "output_type": "display_data"
    }
   ],
   "source": [
    "x19 <- kingJames %>% \n",
    "  group_by(period, season, win_or_lose, shot_made) %>%\n",
    "  summarise(n = n()) %>%\n",
    "  mutate(FTpercentage = n / sum(n)*100) %>%\n",
    "  filter(shot_made == 1, as.numeric(period) < 5)\n",
    "\n",
    "ggplot(data = x19, aes(x = period, y = FTpercentage, color = win_or_lose)) + \n",
    "    geom_point()+\n",
    "    geom_line(aes(group = win_or_lose)) +\n",
    "    facet_wrap(~season) +\n",
    "    scale_color_manual(values=c(\"red\", \"blue\"))+\n",
    "    scale_y_continuous(limits = c(50, 100))+\n",
    "    theme_x "
   ]
  },
  {
   "cell_type": "code",
   "execution_count": 74,
   "metadata": {},
   "outputs": [
    {
     "data": {},
     "metadata": {},
     "output_type": "display_data"
    },
    {
     "data": {
      "image/png": "[encoded data removed]",
      "text/plain": [
       "plot without title"
      ]
     },
     "metadata": {},
     "output_type": "display_data"
    }
   ],
   "source": [
    "x20 <- kingJames %>% \n",
    "  group_by(period, season, home_or_away, shot_made) %>%\n",
    "  summarise(n = n()) %>%\n",
    "  mutate(FTpercentage = n / sum(n)*100) %>%\n",
    "  filter(shot_made == 1, as.numeric(period) < 5)\n",
    "\n",
    "ggplot(data = x20, aes(x = period, y = FTpercentage, color = home_or_away)) + \n",
    "    geom_point()+\n",
    "    geom_line(aes(group = home_or_away)) +\n",
    "    facet_wrap(~season) +\n",
    "    scale_color_manual(values=c(\"red\", \"blue\"))+\n",
    "    scale_y_continuous(limits = c(50, 100))+\n",
    "    theme_x "
   ]
  },
  {
   "cell_type": "code",
   "execution_count": 75,
   "metadata": {},
   "outputs": [
    {
     "data": {},
     "metadata": {},
     "output_type": "display_data"
    },
    {
     "data": {
      "image/png": "[encoded data removed]",
      "text/plain": [
       "plot without title"
      ]
     },
     "metadata": {},
     "output_type": "display_data"
    }
   ],
   "source": [
    "x21 <- kingJames %>% \n",
    "  group_by(period, season, conference, shot_made) %>%\n",
    "  summarise(n = n()) %>%\n",
    "  mutate(FTpercentage = n / sum(n)*100) %>%\n",
    "  filter(shot_made == 1, as.numeric(period) < 5)\n",
    "\n",
    "ggplot(data = x21, aes(x = period, y = FTpercentage, color = conference)) + \n",
    "    geom_point()+\n",
    "    geom_line(aes(group = conference)) +\n",
    "    facet_wrap(~season) +\n",
    "    scale_color_manual(values=c(\"red\", \"blue\"))+\n",
    "    scale_y_continuous(limits = c(50, 100))+\n",
    "    theme_x "
   ]
  },
  {
   "cell_type": "code",
   "execution_count": 76,
   "metadata": {},
   "outputs": [
    {
     "data": {},
     "metadata": {},
     "output_type": "display_data"
    },
    {
     "data": {
      "image/png": "[encoded data removed]",
      "text/plain": [
       "plot without title"
      ]
     },
     "metadata": {},
     "output_type": "display_data"
    }
   ],
   "source": [
    "x22 <- kingJames %>% \n",
    "  group_by(period, season, playoffs, shot_made) %>%\n",
    "  summarise(n = n()) %>%\n",
    "  mutate(FTpercentage = n / sum(n)*100) %>%\n",
    "  filter(shot_made == 1, as.numeric(period) < 5)\n",
    "\n",
    "ggplot(data = x22, aes(x = period, y = FTpercentage, color = playoffs)) + \n",
    "    geom_point()+\n",
    "    geom_line(aes(group = playoffs)) +\n",
    "    facet_wrap(~season) +\n",
    "    scale_color_manual(values=c(\"red\", \"blue\"))+\n",
    "    scale_y_continuous(limits = c(50, 100))+\n",
    "    theme_x "
   ]
  },
  {
   "cell_type": "code",
   "execution_count": 77,
   "metadata": {},
   "outputs": [
    {
     "data": {},
     "metadata": {},
     "output_type": "display_data"
    },
    {
     "data": {
      "image/png": "[encoded data removed]",
      "text/plain": [
       "plot without title"
      ]
     },
     "metadata": {},
     "output_type": "display_data"
    }
   ],
   "source": [
    "options(repr.plot.width=8, repr.plot.height=6)\n",
    "x23 <- kingJames %>% \n",
    "  group_by(minute, seconds_left,conference, shot_made) %>%\n",
    "  filter( conference != 'NONE',\n",
    "         as.numeric(period) < 5)\n",
    "\n",
    "ggplot(data = x23, aes(x = seconds_left,y =minute ,color = shot_made)) + \n",
    "  geom_point()+\n",
    "  facet_grid(conference~.)+\n",
    "  scale_color_manual(values=c(\"red\", \"blue\"))+\n",
    "  theme_x"
   ]
  },
  {
   "cell_type": "code",
   "execution_count": 78,
   "metadata": {},
   "outputs": [
    {
     "data": {},
     "metadata": {},
     "output_type": "display_data"
    },
    {
     "data": {
      "image/png": "[encoded data removed]",
      "text/plain": [
       "plot without title"
      ]
     },
     "metadata": {},
     "output_type": "display_data"
    }
   ],
   "source": [
    "x24 <- kingJames %>% \n",
    "  group_by(tot_min_left,seconds_left,division,home_or_away, shot_made) %>%\n",
    "  filter( conference != 'NONE')\n",
    "\n",
    "ggplot(data = x24, aes(x = seconds_left,y =tot_min_left,color = shot_made)) + \n",
    "  geom_point()+\n",
    "  facet_grid(home_or_away~division)+\n",
    "  scale_color_manual(values=c(\"red\", \"blue\"))+\n",
    "  theme_x"
   ]
  },
  {
   "cell_type": "code",
   "execution_count": 79,
   "metadata": {},
   "outputs": [
    {
     "data": {},
     "metadata": {},
     "output_type": "display_data"
    },
    {
     "data": {
      "image/png": "[encoded data removed]",
      "text/plain": [
       "plot without title"
      ]
     },
     "metadata": {},
     "output_type": "display_data"
    }
   ],
   "source": [
    "options(repr.plot.width=9, repr.plot.height=7)\n",
    "\n",
    "x25 <- kingJames %>% \n",
    "  group_by(tot_min_left,seconds_left,opponent, shot_made) %>%\n",
    "  filter( conference != 'NONE')\n",
    "\n",
    "ggplot(data = x25, aes(x = seconds_left,y =tot_min_left,color = shot_made)) + \n",
    "  geom_point()+\n",
    "  facet_wrap(~opponent)+\n",
    "  scale_color_manual(values=c(\"red\", \"blue\"))+\n",
    "  theme_x"
   ]
  },
  {
   "cell_type": "code",
   "execution_count": null,
   "metadata": {},
   "outputs": [],
   "source": []
  }
 ],
 "metadata": {
  "kernelspec": {
   "display_name": "R",
   "language": "R",
   "name": "ir"
  },
  "language_info": {
   "codemirror_mode": "r",
   "file_extension": ".r",
   "mimetype": "text/x-r-source",
   "name": "R",
   "pygments_lexer": "r",
   "version": "3.4.2"
  }
 },
 "nbformat": 4,
 "nbformat_minor": 2
}
